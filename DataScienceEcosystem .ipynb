{
 "cells": [
  {
   "cell_type": "markdown",
   "id": "c8136b98-8840-40f9-b6b1-899d10691283",
   "metadata": {},
   "source": [
    "# Data Science Tools and Ecosystem"
   ]
  },
  {
   "cell_type": "markdown",
   "id": "0e2b2dc2-afa7-4dfb-b5d5-abc1a63d2b08",
   "metadata": {},
   "source": [
    "### This notebook is about Data science Tools , diffrent types of Languages , Libraries  are summrized here"
   ]
  },
  {
   "cell_type": "markdown",
   "id": "8a3f83fd-42d9-4d74-aacb-a5fe8da41c85",
   "metadata": {},
   "source": [
    "## **Objectives**\n",
    "- Python\n",
    "- R\n",
    "- SQL\n",
    "- Scala\n",
    "- Java\n",
    "- C++\n",
    "- Julia\n",
    "- Ruby\n",
    "- java script\n",
    "- php"
   ]
  },
  {
   "cell_type": "markdown",
   "id": "a8f37bd0-923b-420f-9f11-69937c7c3dec",
   "metadata": {},
   "source": [
    "### Some of the popular languages that Data Scientists use are:\n",
    "1. Python\n",
    "2. R\n",
    "3. SQL"
   ]
  },
  {
   "cell_type": "markdown",
   "id": "79e99ddf-b752-4a2b-9bdf-bdac8da0bb90",
   "metadata": {},
   "source": [
    "## Some of the commonly used libraries used by Data Scientists include:\n",
    "1. Pandas , Numpy\n",
    "2. Matplotlib , Seaborn\n",
    "3. Scikit learn , Keras\n",
    "4. Tensorflow , PyTorch"
   ]
  },
  {
   "cell_type": "markdown",
   "id": "f1a0f2fc-750f-4836-aa8d-5bd84656022c",
   "metadata": {},
   "source": [
    "| Data Science Tools |\n",
    "| ------------------ |\n",
    "| Jupyter Notebool , Jupyter lab |\n",
    "| Apache Zeppelin |\n",
    "| R Studio |\n",
    "| Spyder |    "
   ]
  },
  {
   "cell_type": "markdown",
   "id": "12c67215-cf55-4a24-bc0b-8824cdc77e2d",
   "metadata": {},
   "source": [
    "### Below are a few examples of evaluating arithmetic expressions in Python\n",
    "1. 2+3x4\n",
    "2. 5-2x4/2"
   ]
  },
  {
   "cell_type": "code",
   "execution_count": 28,
   "id": "94bdcdda-2386-47c8-8aef-4768b4b54f17",
   "metadata": {},
   "outputs": [
    {
     "data": {
      "text/plain": [
       "17"
      ]
     },
     "execution_count": 28,
     "metadata": {},
     "output_type": "execute_result"
    }
   ],
   "source": [
    "# This a simple arithmetic expression to mutiply then add integers\n",
    "(3*4)+5"
   ]
  },
  {
   "cell_type": "code",
   "execution_count": 30,
   "id": "b32d7d7c-73dd-457f-90f4-2eaab1a7327d",
   "metadata": {},
   "outputs": [
    {
     "name": "stdout",
     "output_type": "stream",
     "text": [
      "3.3333333333333335\n"
     ]
    }
   ],
   "source": [
    "# This will convert 200 minutes to hours by diving by 60\n",
    "minutes = 200\n",
    "hours = minutes / 60\n",
    "print(hours)"
   ]
  },
  {
   "cell_type": "markdown",
   "id": "ca70e1f3-bd2c-4125-9837-5be7b5c70ffe",
   "metadata": {},
   "source": [
    "## Author\n",
    "Navdeep singh"
   ]
  }
 ],
 "metadata": {
  "kernelspec": {
   "display_name": "Python 3 (ipykernel)",
   "language": "python",
   "name": "python3"
  },
  "language_info": {
   "codemirror_mode": {
    "name": "ipython",
    "version": 3
   },
   "file_extension": ".py",
   "mimetype": "text/x-python",
   "name": "python",
   "nbconvert_exporter": "python",
   "pygments_lexer": "ipython3",
   "version": "3.12.7"
  }
 },
 "nbformat": 4,
 "nbformat_minor": 5
}
